{
  "nbformat": 4,
  "nbformat_minor": 0,
  "metadata": {
    "colab": {
      "provenance": [],
      "gpuType": "T4",
      "authorship_tag": "ABX9TyOIyFdZwKpEROpkSnb3Z/rZ",
      "include_colab_link": true
    },
    "kernelspec": {
      "name": "python3",
      "display_name": "Python 3"
    },
    "language_info": {
      "name": "python"
    },
    "accelerator": "GPU"
  },
  "cells": [
    {
      "cell_type": "markdown",
      "metadata": {
        "id": "view-in-github",
        "colab_type": "text"
      },
      "source": [
        "<a href=\"https://colab.research.google.com/github/LuhemRevorg/Deep-Learning/blob/main/Tensors.ipynb\" target=\"_parent\"><img src=\"https://colab.research.google.com/assets/colab-badge.svg\" alt=\"Open In Colab\"/></a>"
      ]
    },
    {
      "cell_type": "markdown",
      "source": [
        "# **Imports**"
      ],
      "metadata": {
        "id": "dcc4p3aRHKZN"
      }
    },
    {
      "cell_type": "code",
      "source": [
        "import torch\n",
        "import numpy as np"
      ],
      "metadata": {
        "id": "6g_8vmehHEjJ"
      },
      "execution_count": 2,
      "outputs": []
    },
    {
      "cell_type": "markdown",
      "source": [
        "A torch.Tensor is a multi dimensional matrix containing elements of a single data type. Works better with GPU, dfeault data type is float32"
      ],
      "metadata": {
        "id": "AZ48PQv4HdIU"
      }
    },
    {
      "cell_type": "code",
      "source": [
        "# Lists\n",
        "\n",
        "my_list = [1,2,3,4,5]\n",
        "my_list"
      ],
      "metadata": {
        "colab": {
          "base_uri": "https://localhost:8080/"
        },
        "id": "u0L4FaW1HS7a",
        "outputId": "441e8415-db23-493b-d8b8-1b9268560170"
      },
      "execution_count": null,
      "outputs": [
        {
          "output_type": "execute_result",
          "data": {
            "text/plain": [
              "[1, 2, 3, 4, 5]"
            ]
          },
          "metadata": {},
          "execution_count": 2
        }
      ]
    },
    {
      "cell_type": "code",
      "source": [
        "# Numpy Arrays\n",
        "\n",
        "np1 = np.random.rand(3,4)\n",
        "np1"
      ],
      "metadata": {
        "colab": {
          "base_uri": "https://localhost:8080/"
        },
        "id": "UU9u9Zx4HxGe",
        "outputId": "6d138dd5-05e9-42ed-a21d-d0446ddfb295"
      },
      "execution_count": null,
      "outputs": [
        {
          "output_type": "execute_result",
          "data": {
            "text/plain": [
              "array([[0.01444739, 0.34550789, 0.3183109 , 0.46050743],\n",
              "       [0.92685468, 0.46849723, 0.28041068, 0.21760798],\n",
              "       [0.70920167, 0.17424025, 0.80043808, 0.037459  ]])"
            ]
          },
          "metadata": {},
          "execution_count": 8
        }
      ]
    },
    {
      "cell_type": "code",
      "source": [
        "# Tensor\n",
        "\n",
        "\n",
        "tensor_2d = torch.randn(3,4)\n",
        "tensor_2d"
      ],
      "metadata": {
        "colab": {
          "base_uri": "https://localhost:8080/"
        },
        "id": "-7W9CY11IN5B",
        "outputId": "0bba9f83-75ca-4972-cdac-34f50d06dd27"
      },
      "execution_count": null,
      "outputs": [
        {
          "output_type": "execute_result",
          "data": {
            "text/plain": [
              "tensor([[ 0.8043, -0.3902,  0.1289,  0.1111],\n",
              "        [ 0.0146,  0.7709,  0.5713, -0.5537],\n",
              "        [-0.4271,  1.2827, -0.6697,  0.8531]])"
            ]
          },
          "metadata": {},
          "execution_count": 6
        }
      ]
    },
    {
      "cell_type": "code",
      "source": [
        "my_tensor = torch.tensor(np1)\n",
        "my_tensor"
      ],
      "metadata": {
        "colab": {
          "base_uri": "https://localhost:8080/"
        },
        "id": "xT-MvzMvIXXm",
        "outputId": "5c42cbf1-1d0c-4ff4-c840-1975ae74bea6"
      },
      "execution_count": null,
      "outputs": [
        {
          "output_type": "execute_result",
          "data": {
            "text/plain": [
              "tensor([[0.0144, 0.3455, 0.3183, 0.4605],\n",
              "        [0.9269, 0.4685, 0.2804, 0.2176],\n",
              "        [0.7092, 0.1742, 0.8004, 0.0375]], dtype=torch.float64)"
            ]
          },
          "metadata": {},
          "execution_count": 9
        }
      ]
    },
    {
      "cell_type": "markdown",
      "source": [
        "# **Tensor Ops**"
      ],
      "metadata": {
        "id": "y51mzKfRcxvs"
      }
    },
    {
      "cell_type": "code",
      "source": [
        "my_torch = torch.arange(10)\n",
        "my_torch"
      ],
      "metadata": {
        "id": "ImhVPSrZIv_v",
        "colab": {
          "base_uri": "https://localhost:8080/"
        },
        "outputId": "cb5b4889-642a-437e-f3b7-a12431af04aa"
      },
      "execution_count": null,
      "outputs": [
        {
          "output_type": "execute_result",
          "data": {
            "text/plain": [
              "tensor([0, 1, 2, 3, 4, 5, 6, 7, 8, 9])"
            ]
          },
          "metadata": {},
          "execution_count": 10
        }
      ]
    },
    {
      "cell_type": "code",
      "source": [
        "my_torch = my_torch.reshape(2,5)\n",
        "my_torch"
      ],
      "metadata": {
        "colab": {
          "base_uri": "https://localhost:8080/"
        },
        "id": "8cjgBGVrc6VA",
        "outputId": "e5ad7629-1fe6-486b-8a53-0d9cf436ea83"
      },
      "execution_count": null,
      "outputs": [
        {
          "output_type": "execute_result",
          "data": {
            "text/plain": [
              "tensor([[0, 1, 2, 3, 4],\n",
              "        [5, 6, 7, 8, 9]])"
            ]
          },
          "metadata": {},
          "execution_count": 11
        }
      ]
    },
    {
      "cell_type": "code",
      "source": [
        "my_torch = my_torch.reshape(2,-1) # Use -1 when don't know number of elements\n",
        "my_torch"
      ],
      "metadata": {
        "colab": {
          "base_uri": "https://localhost:8080/"
        },
        "id": "Tfe7PvLLdWOv",
        "outputId": "bab24d65-e91d-4709-ebd3-a550f123ed67"
      },
      "execution_count": null,
      "outputs": [
        {
          "output_type": "execute_result",
          "data": {
            "text/plain": [
              "tensor([[0, 1, 2, 3, 4],\n",
              "        [5, 6, 7, 8, 9]])"
            ]
          },
          "metadata": {},
          "execution_count": 12
        }
      ]
    },
    {
      "cell_type": "code",
      "source": [
        "my_torch2 = my_torch.view(5,2)\n",
        "my_torch2"
      ],
      "metadata": {
        "colab": {
          "base_uri": "https://localhost:8080/"
        },
        "id": "wSGYylZPdmlr",
        "outputId": "71332bd9-f757-467a-8ff0-4752e146cf2c"
      },
      "execution_count": null,
      "outputs": [
        {
          "output_type": "execute_result",
          "data": {
            "text/plain": [
              "tensor([[0, 1],\n",
              "        [2, 3],\n",
              "        [4, 5],\n",
              "        [6, 7],\n",
              "        [8, 9]])"
            ]
          },
          "metadata": {},
          "execution_count": 13
        }
      ]
    },
    {
      "cell_type": "code",
      "source": [
        "# Reshape and view update the tensor\n",
        "\n",
        "my_torch3 = torch.arange(10)\n",
        "my_torch3\n",
        "\n",
        "my_torch4 = my_torch3.reshape(2,5)\n",
        "my_torch4\n",
        "\n",
        "my_torch3[1] = 1000\n",
        "my_torch3\n",
        "my_torch4\n",
        "\n"
      ],
      "metadata": {
        "colab": {
          "base_uri": "https://localhost:8080/"
        },
        "id": "slS1xw2Ed0so",
        "outputId": "e1422b82-cf29-4dd3-dd10-a08333bc28e6"
      },
      "execution_count": null,
      "outputs": [
        {
          "output_type": "execute_result",
          "data": {
            "text/plain": [
              "tensor([[   0, 1000,    2,    3,    4],\n",
              "        [   5,    6,    7,    8,    9]])"
            ]
          },
          "metadata": {},
          "execution_count": 16
        }
      ]
    },
    {
      "cell_type": "code",
      "source": [
        "# Slices\n",
        "\n",
        "my_torch5 = torch.arange(10)\n",
        "my_torch5[7]\n",
        "my_torch5 = my_torch5.reshape(5,2)\n",
        "my_torch5\n",
        "\n",
        "\n",
        "my_torch5[:,1]\n",
        "my_torch5[:,1:]\n"
      ],
      "metadata": {
        "colab": {
          "base_uri": "https://localhost:8080/"
        },
        "id": "X_M5m7c_elaK",
        "outputId": "44ec0de1-d7b7-47b8-fc66-61175d332add"
      },
      "execution_count": null,
      "outputs": [
        {
          "output_type": "execute_result",
          "data": {
            "text/plain": [
              "tensor([[1],\n",
              "        [3],\n",
              "        [5],\n",
              "        [7],\n",
              "        [9]])"
            ]
          },
          "metadata": {},
          "execution_count": 21
        }
      ]
    },
    {
      "cell_type": "markdown",
      "source": [
        "## **Mathematical Operations on Tensors**"
      ],
      "metadata": {
        "id": "nQTB-im38BGz"
      }
    },
    {
      "cell_type": "code",
      "source": [
        "tensor_a = torch.tensor([1,2,3,4])\n",
        "tensor_b = torch.tensor([5,6,7,8])\n",
        "\n"
      ],
      "metadata": {
        "id": "lKVyvkqIexYi"
      },
      "execution_count": 4,
      "outputs": []
    },
    {
      "cell_type": "code",
      "source": [
        "# Addition Shorthand\n",
        "print(tensor_a + tensor_b)\n",
        "# Addition Longhand\n",
        "print(torch.add(tensor_a,tensor_b))"
      ],
      "metadata": {
        "colab": {
          "base_uri": "https://localhost:8080/"
        },
        "id": "rS-N7mKA8di4",
        "outputId": "56422bc3-1489-4710-eab5-74917ffee00f"
      },
      "execution_count": 8,
      "outputs": [
        {
          "output_type": "stream",
          "name": "stdout",
          "text": [
            "tensor([ 6,  8, 10, 12])\n",
            "tensor([ 6,  8, 10, 12])\n"
          ]
        }
      ]
    },
    {
      "cell_type": "code",
      "source": [
        "# Subtraction Shorthand\n",
        "print(tensor_a - tensor_b)\n",
        "# Subtraction Longhand\n",
        "print(torch.sub(tensor_a,tensor_b))"
      ],
      "metadata": {
        "colab": {
          "base_uri": "https://localhost:8080/"
        },
        "id": "VbZxTBcH8f9R",
        "outputId": "6bca37d7-c8fa-4fe1-b7a6-91e52e3ced86"
      },
      "execution_count": 11,
      "outputs": [
        {
          "output_type": "stream",
          "name": "stdout",
          "text": [
            "tensor([-4, -4, -4, -4])\n",
            "tensor([-4, -4, -4, -4])\n"
          ]
        }
      ]
    },
    {
      "cell_type": "code",
      "source": [
        "# Multiplication Shorthand\n",
        "print(tensor_a * tensor_b)\n",
        "# Multiplication Longhand\n",
        "print(torch.mul(tensor_a,tensor_b))"
      ],
      "metadata": {
        "colab": {
          "base_uri": "https://localhost:8080/"
        },
        "id": "R1zITZxp8h2i",
        "outputId": "8e4bc489-e779-454a-d4bc-1f466c950361"
      },
      "execution_count": 12,
      "outputs": [
        {
          "output_type": "stream",
          "name": "stdout",
          "text": [
            "tensor([ 5, 12, 21, 32])\n",
            "tensor([ 5, 12, 21, 32])\n"
          ]
        }
      ]
    },
    {
      "cell_type": "code",
      "source": [
        "# Division Shorthand\n",
        "print(tensor_a / tensor_b)\n",
        "# Division Longhand\n",
        "print(torch.div(tensor_a,tensor_b))"
      ],
      "metadata": {
        "colab": {
          "base_uri": "https://localhost:8080/"
        },
        "id": "tJftF8AS9FwO",
        "outputId": "92e39893-efc4-475b-8b79-ccce76c12097"
      },
      "execution_count": 13,
      "outputs": [
        {
          "output_type": "stream",
          "name": "stdout",
          "text": [
            "tensor([0.2000, 0.3333, 0.4286, 0.5000])\n",
            "tensor([0.2000, 0.3333, 0.4286, 0.5000])\n"
          ]
        }
      ]
    },
    {
      "cell_type": "code",
      "source": [
        "# Remainder Modulus Shorthand\n",
        "print(tensor_b % tensor_a)\n",
        "# Remainder Modulus Longhand\n",
        "print(torch.remainder(tensor_b,tensor_a))"
      ],
      "metadata": {
        "colab": {
          "base_uri": "https://localhost:8080/"
        },
        "id": "oNmnfbps9K1o",
        "outputId": "f30f92ea-8820-489f-fbc8-a9e33e8167fc"
      },
      "execution_count": 14,
      "outputs": [
        {
          "output_type": "stream",
          "name": "stdout",
          "text": [
            "tensor([0, 0, 1, 0])\n",
            "tensor([0, 0, 1, 0])\n"
          ]
        }
      ]
    },
    {
      "cell_type": "code",
      "source": [
        "# Exponent / Power Shorthand\n",
        "print(tensor_a ** tensor_b)\n",
        "# Exponent / Power Longhand\n",
        "print(torch.pow(tensor_a,tensor_b))"
      ],
      "metadata": {
        "colab": {
          "base_uri": "https://localhost:8080/"
        },
        "id": "R7edAjpY9SlU",
        "outputId": "11b9fe37-e6ef-4ec1-a658-e10bb4738ab8"
      },
      "execution_count": 15,
      "outputs": [
        {
          "output_type": "stream",
          "name": "stdout",
          "text": [
            "tensor([    1,    64,  2187, 65536])\n",
            "tensor([    1,    64,  2187, 65536])\n"
          ]
        }
      ]
    },
    {
      "cell_type": "code",
      "source": [
        "# Reassignment\n",
        "\n",
        "#tensor_a += tensor_b\n",
        "\n",
        "tensor_a.add_(tensor_b)\n",
        "tensor_a"
      ],
      "metadata": {
        "colab": {
          "base_uri": "https://localhost:8080/"
        },
        "id": "_HdLrfsG9aM9",
        "outputId": "a478d153-b3f5-4422-8ba1-56ab04e95ca6"
      },
      "execution_count": 16,
      "outputs": [
        {
          "output_type": "execute_result",
          "data": {
            "text/plain": [
              "tensor([ 6,  8, 10, 12])"
            ]
          },
          "metadata": {},
          "execution_count": 16
        }
      ]
    }
  ]
}